{
 "cells": [
  {
   "cell_type": "markdown",
   "metadata": {},
   "source": [
    "# Communicate Data Findings with Ford GoBike's Trip Data\n",
    "## by Jiarun He\n",
    "\n",
    "\n",
    "## Introduction\n",
    "> Bike Sharing services have been rising in popularity in cities around the world over the past five years. This innovative sharing service allow members to borrow bikes for short distance travels (<30 mins). Almost all of the service providers use advanced mobile and information technologies to not only allow users to lock/unlock a ready-to-use bike easily from the mobile platform, but also allow themselves to receive a wealth of data from the users to help understanding how their bike sharing systems are used. In this data analysis project, I am going to perform a data exploration on the data provided by Ford GoBike data system.\n",
    "\n",
    "## Preliminary Wrangling\n",
    ">* I have chosen the Ford GoBike System Data : https://www.fordgobike.com/system-data as the proejct source data\n",
    "* Ford GoBike is the Bay Area's new bike share system, with thousands of public bikes for use across San Francisco, East Bay and San Jose. \n",
    "* Multiple data files are required to be joined together as a full year’s coverage is desired.\n",
    "* The features included in the dataset : Trip Duration (seconds) , Start Time and Date , End Time and Date , Start Station ID , Start Station Name , Start Station Latitude , Start Station Longitude , End Station ID , End Station Name, End Station Latitude , End Station Longitude , Bike ID , User Type (Subscriber or Customer – “Subscriber” = Member or “Customer” = Casual) , Member Year of Birth, Member Gender"
   ]
  },
  {
   "cell_type": "code",
   "execution_count": 1,
   "metadata": {},
   "outputs": [],
   "source": [
    "# import all packages and set plots to be embedded inline\n",
    "import numpy as np\n",
    "import pandas as pd\n",
    "import matplotlib.pyplot as plt\n",
    "import seaborn as sb\n",
    "from requests import get\n",
    "from os import path, getcwd, makedirs, listdir \n",
    "from io import BytesIO\n",
    "from zipfile import ZipFile\n",
    "%matplotlib inline"
   ]
  },
  {
   "cell_type": "markdown",
   "metadata": {},
   "source": [
    "> Load in your dataset and describe its properties through the questions below.\n",
    "Try and motivate your exploration goals through this section."
   ]
  },
  {
   "cell_type": "code",
   "execution_count": null,
   "metadata": {},
   "outputs": [],
   "source": [
    "folder_name = 'GoBike_Trip_Files'"
   ]
  },
  {
   "cell_type": "code",
   "execution_count": null,
   "metadata": {},
   "outputs": [],
   "source": [
    "makedirs(folder_name)\n",
    "#first read the 2017 data\n",
    "pd.read_csv('https://s3.amazonaws.com/fordgobike-data/2017-fordgobike-tripdata.csv').to_csv('{}/2017-forgobike-tripdata.csv'.format(folder_name))\n",
    "#second, read all 2018 data\n",
    "for month in range(1,12):\n",
    "    month_string = str(month)\n",
    "    month_leading_zero = month_string.zfill(2)\n",
    "    \n",
    "    bike_data_url = 'https://s3.amazonaws.com/fordgobike-data/2018' + month_leading_zero + '-fordgobike-tripdata.csv.zip'\n",
    "    response = get(bike_data_url)\n",
    "        \n",
    "    # code below opens zip file; BytesIO returns a readable and writeable view of the contents;\n",
    "    unzipped_file = ZipFile(BytesIO(response.content))\n",
    "        \n",
    "    # puts extracted zip file into folder GoBike_Trip_Files\n",
    "    unzipped_file.extractall(folder_name)\n",
    "\n",
    "for month in range(1,4):\n",
    "    month_string = str(month)\n",
    "    month_leading_zero = month_string.zfill(2)\n",
    "    \n",
    "    bike_data_url = 'https://s3.amazonaws.com/fordgobike-data/2019' + month_leading_zero + '-fordgobike-tripdata.csv.zip'\n",
    "    response = get(bike_data_url)\n",
    "        \n",
    "    # code below opens zip file; BytesIO returns a readable and writeable view of the contents;\n",
    "    unzipped_file = ZipFile(BytesIO(response.content))\n",
    "        \n",
    "    # puts extracted zip file into folder GoBike_Trip_Files\n",
    "    unzipped_file.extractall(folder_name)"
   ]
  },
  {
   "cell_type": "code",
   "execution_count": null,
   "metadata": {},
   "outputs": [],
   "source": [
    "# Combine All Locally Saved CSVs into One DataFrame\n",
    "local_csvs = []\n",
    "for file_name in listdir(folder_name):\n",
    "    local_csvs.append(pd.read_csv(folder_name+'/'+file_name))\n",
    "df = pd.concat(local_csvs)"
   ]
  },
  {
   "cell_type": "code",
   "execution_count": null,
   "metadata": {},
   "outputs": [],
   "source": [
    "df.to_csv('data.csv')"
   ]
  },
  {
   "cell_type": "code",
   "execution_count": 2,
   "metadata": {},
   "outputs": [
    {
     "name": "stderr",
     "output_type": "stream",
     "text": [
      "/anaconda3/lib/python3.6/site-packages/IPython/core/interactiveshell.py:2785: DtypeWarning: Columns (3) have mixed types. Specify dtype option on import or set low_memory=False.\n",
      "  interactivity=interactivity, compiler=compiler, result=result)\n"
     ]
    }
   ],
   "source": [
    "df = pd.read_csv('data.csv')"
   ]
  },
  {
   "cell_type": "code",
   "execution_count": 3,
   "metadata": {},
   "outputs": [],
   "source": [
    "df.drop(['Unnamed: 0', 'Unnamed: 0.1'], axis=1, inplace=True)"
   ]
  },
  {
   "cell_type": "code",
   "execution_count": 4,
   "metadata": {},
   "outputs": [
    {
     "data": {
      "text/html": [
       "<div>\n",
       "<style scoped>\n",
       "    .dataframe tbody tr th:only-of-type {\n",
       "        vertical-align: middle;\n",
       "    }\n",
       "\n",
       "    .dataframe tbody tr th {\n",
       "        vertical-align: top;\n",
       "    }\n",
       "\n",
       "    .dataframe thead th {\n",
       "        text-align: right;\n",
       "    }\n",
       "</style>\n",
       "<table border=\"1\" class=\"dataframe\">\n",
       "  <thead>\n",
       "    <tr style=\"text-align: right;\">\n",
       "      <th></th>\n",
       "      <th>bike_id</th>\n",
       "      <th>bike_share_for_all_trip</th>\n",
       "      <th>duration_sec</th>\n",
       "      <th>end_station_id</th>\n",
       "      <th>end_station_latitude</th>\n",
       "      <th>end_station_longitude</th>\n",
       "      <th>end_station_name</th>\n",
       "      <th>end_time</th>\n",
       "      <th>member_birth_year</th>\n",
       "      <th>member_gender</th>\n",
       "      <th>start_station_id</th>\n",
       "      <th>start_station_latitude</th>\n",
       "      <th>start_station_longitude</th>\n",
       "      <th>start_station_name</th>\n",
       "      <th>start_time</th>\n",
       "      <th>user_type</th>\n",
       "    </tr>\n",
       "  </thead>\n",
       "  <tbody>\n",
       "    <tr>\n",
       "      <th>0</th>\n",
       "      <td>1035</td>\n",
       "      <td>No</td>\n",
       "      <td>598</td>\n",
       "      <td>114.0</td>\n",
       "      <td>37.764478</td>\n",
       "      <td>-122.402570</td>\n",
       "      <td>Rhode Island St at 17th St</td>\n",
       "      <td>2018-03-01 00:09:45.1870</td>\n",
       "      <td>1988.0</td>\n",
       "      <td>Male</td>\n",
       "      <td>284.0</td>\n",
       "      <td>37.784872</td>\n",
       "      <td>-122.400876</td>\n",
       "      <td>Yerba Buena Center for the Arts (Howard St at ...</td>\n",
       "      <td>2018-02-28 23:59:47.0970</td>\n",
       "      <td>Subscriber</td>\n",
       "    </tr>\n",
       "    <tr>\n",
       "      <th>1</th>\n",
       "      <td>1673</td>\n",
       "      <td>No</td>\n",
       "      <td>943</td>\n",
       "      <td>324.0</td>\n",
       "      <td>37.788300</td>\n",
       "      <td>-122.408531</td>\n",
       "      <td>Union Square (Powell St at Post St)</td>\n",
       "      <td>2018-02-28 23:36:59.9740</td>\n",
       "      <td>1987.0</td>\n",
       "      <td>Male</td>\n",
       "      <td>6.0</td>\n",
       "      <td>37.804770</td>\n",
       "      <td>-122.403234</td>\n",
       "      <td>The Embarcadero at Sansome St</td>\n",
       "      <td>2018-02-28 23:21:16.4950</td>\n",
       "      <td>Customer</td>\n",
       "    </tr>\n",
       "    <tr>\n",
       "      <th>2</th>\n",
       "      <td>3498</td>\n",
       "      <td>No</td>\n",
       "      <td>18587</td>\n",
       "      <td>15.0</td>\n",
       "      <td>37.795392</td>\n",
       "      <td>-122.394203</td>\n",
       "      <td>San Francisco Ferry Building (Harry Bridges Pl...</td>\n",
       "      <td>2018-02-28 23:30:42.9250</td>\n",
       "      <td>1986.0</td>\n",
       "      <td>Female</td>\n",
       "      <td>93.0</td>\n",
       "      <td>37.770407</td>\n",
       "      <td>-122.391198</td>\n",
       "      <td>4th St at Mission Bay Blvd S</td>\n",
       "      <td>2018-02-28 18:20:55.1900</td>\n",
       "      <td>Customer</td>\n",
       "    </tr>\n",
       "    <tr>\n",
       "      <th>3</th>\n",
       "      <td>3129</td>\n",
       "      <td>No</td>\n",
       "      <td>18558</td>\n",
       "      <td>15.0</td>\n",
       "      <td>37.795392</td>\n",
       "      <td>-122.394203</td>\n",
       "      <td>San Francisco Ferry Building (Harry Bridges Pl...</td>\n",
       "      <td>2018-02-28 23:30:12.4500</td>\n",
       "      <td>1981.0</td>\n",
       "      <td>Male</td>\n",
       "      <td>93.0</td>\n",
       "      <td>37.770407</td>\n",
       "      <td>-122.391198</td>\n",
       "      <td>4th St at Mission Bay Blvd S</td>\n",
       "      <td>2018-02-28 18:20:53.6210</td>\n",
       "      <td>Customer</td>\n",
       "    </tr>\n",
       "    <tr>\n",
       "      <th>4</th>\n",
       "      <td>1839</td>\n",
       "      <td>Yes</td>\n",
       "      <td>885</td>\n",
       "      <td>297.0</td>\n",
       "      <td>37.322980</td>\n",
       "      <td>-121.887931</td>\n",
       "      <td>Locust St at Grant St</td>\n",
       "      <td>2018-02-28 23:29:58.6080</td>\n",
       "      <td>1976.0</td>\n",
       "      <td>Female</td>\n",
       "      <td>308.0</td>\n",
       "      <td>37.336802</td>\n",
       "      <td>-121.894090</td>\n",
       "      <td>San Pedro Square</td>\n",
       "      <td>2018-02-28 23:15:12.8580</td>\n",
       "      <td>Subscriber</td>\n",
       "    </tr>\n",
       "  </tbody>\n",
       "</table>\n",
       "</div>"
      ],
      "text/plain": [
       "   bike_id bike_share_for_all_trip  duration_sec  end_station_id  \\\n",
       "0     1035                      No           598           114.0   \n",
       "1     1673                      No           943           324.0   \n",
       "2     3498                      No         18587            15.0   \n",
       "3     3129                      No         18558            15.0   \n",
       "4     1839                     Yes           885           297.0   \n",
       "\n",
       "   end_station_latitude  end_station_longitude  \\\n",
       "0             37.764478            -122.402570   \n",
       "1             37.788300            -122.408531   \n",
       "2             37.795392            -122.394203   \n",
       "3             37.795392            -122.394203   \n",
       "4             37.322980            -121.887931   \n",
       "\n",
       "                                    end_station_name  \\\n",
       "0                         Rhode Island St at 17th St   \n",
       "1                Union Square (Powell St at Post St)   \n",
       "2  San Francisco Ferry Building (Harry Bridges Pl...   \n",
       "3  San Francisco Ferry Building (Harry Bridges Pl...   \n",
       "4                              Locust St at Grant St   \n",
       "\n",
       "                   end_time  member_birth_year member_gender  \\\n",
       "0  2018-03-01 00:09:45.1870             1988.0          Male   \n",
       "1  2018-02-28 23:36:59.9740             1987.0          Male   \n",
       "2  2018-02-28 23:30:42.9250             1986.0        Female   \n",
       "3  2018-02-28 23:30:12.4500             1981.0          Male   \n",
       "4  2018-02-28 23:29:58.6080             1976.0        Female   \n",
       "\n",
       "   start_station_id  start_station_latitude  start_station_longitude  \\\n",
       "0             284.0               37.784872              -122.400876   \n",
       "1               6.0               37.804770              -122.403234   \n",
       "2              93.0               37.770407              -122.391198   \n",
       "3              93.0               37.770407              -122.391198   \n",
       "4             308.0               37.336802              -121.894090   \n",
       "\n",
       "                                  start_station_name  \\\n",
       "0  Yerba Buena Center for the Arts (Howard St at ...   \n",
       "1                      The Embarcadero at Sansome St   \n",
       "2                       4th St at Mission Bay Blvd S   \n",
       "3                       4th St at Mission Bay Blvd S   \n",
       "4                                   San Pedro Square   \n",
       "\n",
       "                 start_time   user_type  \n",
       "0  2018-02-28 23:59:47.0970  Subscriber  \n",
       "1  2018-02-28 23:21:16.4950    Customer  \n",
       "2  2018-02-28 18:20:55.1900    Customer  \n",
       "3  2018-02-28 18:20:53.6210    Customer  \n",
       "4  2018-02-28 23:15:12.8580  Subscriber  "
      ]
     },
     "execution_count": 4,
     "metadata": {},
     "output_type": "execute_result"
    }
   ],
   "source": [
    "df.head()"
   ]
  },
  {
   "cell_type": "code",
   "execution_count": 5,
   "metadata": {},
   "outputs": [],
   "source": [
    "dtype={'bike_id': int}"
   ]
  },
  {
   "cell_type": "code",
   "execution_count": 6,
   "metadata": {},
   "outputs": [
    {
     "name": "stdout",
     "output_type": "stream",
     "text": [
      "<class 'pandas.core.frame.DataFrame'>\n",
      "RangeIndex: 2883851 entries, 0 to 2883850\n",
      "Data columns (total 16 columns):\n",
      "bike_id                    int64\n",
      "bike_share_for_all_trip    object\n",
      "duration_sec               int64\n",
      "end_station_id             float64\n",
      "end_station_latitude       float64\n",
      "end_station_longitude      float64\n",
      "end_station_name           object\n",
      "end_time                   object\n",
      "member_birth_year          float64\n",
      "member_gender              object\n",
      "start_station_id           float64\n",
      "start_station_latitude     float64\n",
      "start_station_longitude    float64\n",
      "start_station_name         object\n",
      "start_time                 object\n",
      "user_type                  object\n",
      "dtypes: float64(7), int64(2), object(7)\n",
      "memory usage: 352.0+ MB\n"
     ]
    }
   ],
   "source": [
    "df.info()"
   ]
  },
  {
   "cell_type": "code",
   "execution_count": 7,
   "metadata": {},
   "outputs": [
    {
     "data": {
      "text/html": [
       "<div>\n",
       "<style scoped>\n",
       "    .dataframe tbody tr th:only-of-type {\n",
       "        vertical-align: middle;\n",
       "    }\n",
       "\n",
       "    .dataframe tbody tr th {\n",
       "        vertical-align: top;\n",
       "    }\n",
       "\n",
       "    .dataframe thead th {\n",
       "        text-align: right;\n",
       "    }\n",
       "</style>\n",
       "<table border=\"1\" class=\"dataframe\">\n",
       "  <thead>\n",
       "    <tr style=\"text-align: right;\">\n",
       "      <th></th>\n",
       "      <th>bike_id</th>\n",
       "      <th>bike_share_for_all_trip</th>\n",
       "      <th>duration_sec</th>\n",
       "      <th>end_station_id</th>\n",
       "      <th>end_station_latitude</th>\n",
       "      <th>end_station_longitude</th>\n",
       "      <th>end_station_name</th>\n",
       "      <th>end_time</th>\n",
       "      <th>member_birth_year</th>\n",
       "      <th>member_gender</th>\n",
       "      <th>start_station_id</th>\n",
       "      <th>start_station_latitude</th>\n",
       "      <th>start_station_longitude</th>\n",
       "      <th>start_station_name</th>\n",
       "      <th>start_time</th>\n",
       "      <th>user_type</th>\n",
       "    </tr>\n",
       "  </thead>\n",
       "  <tbody>\n",
       "    <tr>\n",
       "      <th>0</th>\n",
       "      <td>1035</td>\n",
       "      <td>No</td>\n",
       "      <td>598</td>\n",
       "      <td>114.0</td>\n",
       "      <td>37.764478</td>\n",
       "      <td>-122.402570</td>\n",
       "      <td>Rhode Island St at 17th St</td>\n",
       "      <td>2018-03-01 00:09:45.1870</td>\n",
       "      <td>1988.0</td>\n",
       "      <td>Male</td>\n",
       "      <td>284.0</td>\n",
       "      <td>37.784872</td>\n",
       "      <td>-122.400876</td>\n",
       "      <td>Yerba Buena Center for the Arts (Howard St at ...</td>\n",
       "      <td>2018-02-28 23:59:47.0970</td>\n",
       "      <td>Subscriber</td>\n",
       "    </tr>\n",
       "    <tr>\n",
       "      <th>1</th>\n",
       "      <td>1673</td>\n",
       "      <td>No</td>\n",
       "      <td>943</td>\n",
       "      <td>324.0</td>\n",
       "      <td>37.788300</td>\n",
       "      <td>-122.408531</td>\n",
       "      <td>Union Square (Powell St at Post St)</td>\n",
       "      <td>2018-02-28 23:36:59.9740</td>\n",
       "      <td>1987.0</td>\n",
       "      <td>Male</td>\n",
       "      <td>6.0</td>\n",
       "      <td>37.804770</td>\n",
       "      <td>-122.403234</td>\n",
       "      <td>The Embarcadero at Sansome St</td>\n",
       "      <td>2018-02-28 23:21:16.4950</td>\n",
       "      <td>Customer</td>\n",
       "    </tr>\n",
       "    <tr>\n",
       "      <th>2</th>\n",
       "      <td>3498</td>\n",
       "      <td>No</td>\n",
       "      <td>18587</td>\n",
       "      <td>15.0</td>\n",
       "      <td>37.795392</td>\n",
       "      <td>-122.394203</td>\n",
       "      <td>San Francisco Ferry Building (Harry Bridges Pl...</td>\n",
       "      <td>2018-02-28 23:30:42.9250</td>\n",
       "      <td>1986.0</td>\n",
       "      <td>Female</td>\n",
       "      <td>93.0</td>\n",
       "      <td>37.770407</td>\n",
       "      <td>-122.391198</td>\n",
       "      <td>4th St at Mission Bay Blvd S</td>\n",
       "      <td>2018-02-28 18:20:55.1900</td>\n",
       "      <td>Customer</td>\n",
       "    </tr>\n",
       "    <tr>\n",
       "      <th>3</th>\n",
       "      <td>3129</td>\n",
       "      <td>No</td>\n",
       "      <td>18558</td>\n",
       "      <td>15.0</td>\n",
       "      <td>37.795392</td>\n",
       "      <td>-122.394203</td>\n",
       "      <td>San Francisco Ferry Building (Harry Bridges Pl...</td>\n",
       "      <td>2018-02-28 23:30:12.4500</td>\n",
       "      <td>1981.0</td>\n",
       "      <td>Male</td>\n",
       "      <td>93.0</td>\n",
       "      <td>37.770407</td>\n",
       "      <td>-122.391198</td>\n",
       "      <td>4th St at Mission Bay Blvd S</td>\n",
       "      <td>2018-02-28 18:20:53.6210</td>\n",
       "      <td>Customer</td>\n",
       "    </tr>\n",
       "    <tr>\n",
       "      <th>4</th>\n",
       "      <td>1839</td>\n",
       "      <td>Yes</td>\n",
       "      <td>885</td>\n",
       "      <td>297.0</td>\n",
       "      <td>37.322980</td>\n",
       "      <td>-121.887931</td>\n",
       "      <td>Locust St at Grant St</td>\n",
       "      <td>2018-02-28 23:29:58.6080</td>\n",
       "      <td>1976.0</td>\n",
       "      <td>Female</td>\n",
       "      <td>308.0</td>\n",
       "      <td>37.336802</td>\n",
       "      <td>-121.894090</td>\n",
       "      <td>San Pedro Square</td>\n",
       "      <td>2018-02-28 23:15:12.8580</td>\n",
       "      <td>Subscriber</td>\n",
       "    </tr>\n",
       "  </tbody>\n",
       "</table>\n",
       "</div>"
      ],
      "text/plain": [
       "   bike_id bike_share_for_all_trip  duration_sec  end_station_id  \\\n",
       "0     1035                      No           598           114.0   \n",
       "1     1673                      No           943           324.0   \n",
       "2     3498                      No         18587            15.0   \n",
       "3     3129                      No         18558            15.0   \n",
       "4     1839                     Yes           885           297.0   \n",
       "\n",
       "   end_station_latitude  end_station_longitude  \\\n",
       "0             37.764478            -122.402570   \n",
       "1             37.788300            -122.408531   \n",
       "2             37.795392            -122.394203   \n",
       "3             37.795392            -122.394203   \n",
       "4             37.322980            -121.887931   \n",
       "\n",
       "                                    end_station_name  \\\n",
       "0                         Rhode Island St at 17th St   \n",
       "1                Union Square (Powell St at Post St)   \n",
       "2  San Francisco Ferry Building (Harry Bridges Pl...   \n",
       "3  San Francisco Ferry Building (Harry Bridges Pl...   \n",
       "4                              Locust St at Grant St   \n",
       "\n",
       "                   end_time  member_birth_year member_gender  \\\n",
       "0  2018-03-01 00:09:45.1870             1988.0          Male   \n",
       "1  2018-02-28 23:36:59.9740             1987.0          Male   \n",
       "2  2018-02-28 23:30:42.9250             1986.0        Female   \n",
       "3  2018-02-28 23:30:12.4500             1981.0          Male   \n",
       "4  2018-02-28 23:29:58.6080             1976.0        Female   \n",
       "\n",
       "   start_station_id  start_station_latitude  start_station_longitude  \\\n",
       "0             284.0               37.784872              -122.400876   \n",
       "1               6.0               37.804770              -122.403234   \n",
       "2              93.0               37.770407              -122.391198   \n",
       "3              93.0               37.770407              -122.391198   \n",
       "4             308.0               37.336802              -121.894090   \n",
       "\n",
       "                                  start_station_name  \\\n",
       "0  Yerba Buena Center for the Arts (Howard St at ...   \n",
       "1                      The Embarcadero at Sansome St   \n",
       "2                       4th St at Mission Bay Blvd S   \n",
       "3                       4th St at Mission Bay Blvd S   \n",
       "4                                   San Pedro Square   \n",
       "\n",
       "                 start_time   user_type  \n",
       "0  2018-02-28 23:59:47.0970  Subscriber  \n",
       "1  2018-02-28 23:21:16.4950    Customer  \n",
       "2  2018-02-28 18:20:55.1900    Customer  \n",
       "3  2018-02-28 18:20:53.6210    Customer  \n",
       "4  2018-02-28 23:15:12.8580  Subscriber  "
      ]
     },
     "execution_count": 7,
     "metadata": {},
     "output_type": "execute_result"
    }
   ],
   "source": [
    "df.head()"
   ]
  },
  {
   "cell_type": "markdown",
   "metadata": {},
   "source": [
    "### What is the structure of your dataset?\n",
    "\n",
    "> There are 2,883,850 rides entries in the dataset with 16 features such as bike_id\tbike_share_for_all_trip\tduration_sec, etc. Most of the attributes are numeric in this dataframe. \n",
    "\n",
    "### What is/are the main feature(s) of interest in your dataset?\n",
    "\n",
    "> I am interested in the following areas:\n",
    "  1. What's the average trip distance? (Univariate Exploration)\n",
    "  2. Does trip distance depend on user group (subscriber vs. customer)? (Bivariate Exploration)\n",
    "  3. How does seasonality (weather condition) affect the trip distance of each user group? (Multivariate)\n",
    "  \n",
    "\n",
    "### What features in the dataset do you think will help support your investigation into your feature(s) of interest?\n",
    "\n",
    "> Start time and date, End time and date, user type, end_station_latitude, end_station_longitude, start_station_latitude, start_station_longitude will support my investigation"
   ]
  },
  {
   "cell_type": "markdown",
   "metadata": {},
   "source": [
    "## Univariate Exploration\n",
    "\n",
    "> In this section, investigate distributions of individual variables. If\n",
    "you see unusual points or outliers, take a deeper look to clean things up\n",
    "and prepare yourself to look at relationships between variables."
   ]
  },
  {
   "cell_type": "markdown",
   "metadata": {},
   "source": [
    "Q1. What's the average trip distance?"
   ]
  },
  {
   "cell_type": "markdown",
   "metadata": {},
   "source": [
    "### Generate new a new attribute: 'distance_km'"
   ]
  },
  {
   "cell_type": "code",
   "execution_count": 8,
   "metadata": {},
   "outputs": [],
   "source": [
    "#https://stackoverflow.com/questions/29545704/fast-haversine-approximation-python-pandas?noredirect=1&lq=1\n",
    "\n",
    "def distance(origin, destination):\n",
    "    \"\"\"\n",
    "    Calculate the great circle distance between two points\n",
    "    on the earth (specified in decimal degrees)\n",
    "\n",
    "    All args must be of equal length.    \n",
    "\n",
    "    \"\"\"\n",
    "    lat1, lon1 = origin\n",
    "    lat2, lon2 = destination\n",
    "    \n",
    "    lon1, lat1, lon2, lat2 = map(np.radians, [lon1, lat1, lon2, lat2])\n",
    "\n",
    "    dlon = lon2 - lon1\n",
    "    dlat = lat2 - lat1\n",
    "\n",
    "    a = np.sin(dlat/2.0)**2 + np.cos(lat1) * np.cos(lat2) * np.sin(dlon/2.0)**2\n",
    "\n",
    "    c = 2 * np.arcsin(np.sqrt(a))\n",
    "    km = 6367 * c\n",
    "    return km"
   ]
  },
  {
   "cell_type": "code",
   "execution_count": 9,
   "metadata": {},
   "outputs": [],
   "source": [
    "df['distance_km'] = df.apply(lambda x: distance((x['start_station_latitude'], x['start_station_longitude']), (x['end_station_latitude'], x['end_station_longitude'])), axis=1)"
   ]
  },
  {
   "cell_type": "code",
   "execution_count": 10,
   "metadata": {},
   "outputs": [],
   "source": [
    "df_copy=df.copy()"
   ]
  },
  {
   "cell_type": "code",
   "execution_count": 11,
   "metadata": {},
   "outputs": [
    {
     "data": {
      "text/html": [
       "<div>\n",
       "<style scoped>\n",
       "    .dataframe tbody tr th:only-of-type {\n",
       "        vertical-align: middle;\n",
       "    }\n",
       "\n",
       "    .dataframe tbody tr th {\n",
       "        vertical-align: top;\n",
       "    }\n",
       "\n",
       "    .dataframe thead th {\n",
       "        text-align: right;\n",
       "    }\n",
       "</style>\n",
       "<table border=\"1\" class=\"dataframe\">\n",
       "  <thead>\n",
       "    <tr style=\"text-align: right;\">\n",
       "      <th></th>\n",
       "      <th>bike_id</th>\n",
       "      <th>duration_sec</th>\n",
       "      <th>end_station_id</th>\n",
       "      <th>end_station_latitude</th>\n",
       "      <th>end_station_longitude</th>\n",
       "      <th>member_birth_year</th>\n",
       "      <th>start_station_id</th>\n",
       "      <th>start_station_latitude</th>\n",
       "      <th>start_station_longitude</th>\n",
       "      <th>distance_km</th>\n",
       "    </tr>\n",
       "  </thead>\n",
       "  <tbody>\n",
       "    <tr>\n",
       "      <th>count</th>\n",
       "      <td>2.883851e+06</td>\n",
       "      <td>2.883851e+06</td>\n",
       "      <td>2.871606e+06</td>\n",
       "      <td>2.883851e+06</td>\n",
       "      <td>2.883851e+06</td>\n",
       "      <td>2.681895e+06</td>\n",
       "      <td>2.871606e+06</td>\n",
       "      <td>2.883851e+06</td>\n",
       "      <td>2.883851e+06</td>\n",
       "      <td>2.883851e+06</td>\n",
       "    </tr>\n",
       "    <tr>\n",
       "      <th>mean</th>\n",
       "      <td>2.630961e+03</td>\n",
       "      <td>8.849844e+02</td>\n",
       "      <td>1.168995e+02</td>\n",
       "      <td>3.776902e+01</td>\n",
       "      <td>-1.223527e+02</td>\n",
       "      <td>1.982964e+03</td>\n",
       "      <td>1.186641e+02</td>\n",
       "      <td>3.776888e+01</td>\n",
       "      <td>-1.223532e+02</td>\n",
       "      <td>1.616095e+00</td>\n",
       "    </tr>\n",
       "    <tr>\n",
       "      <th>std</th>\n",
       "      <td>1.654795e+03</td>\n",
       "      <td>2.531323e+03</td>\n",
       "      <td>1.011717e+02</td>\n",
       "      <td>1.003054e-01</td>\n",
       "      <td>1.475031e-01</td>\n",
       "      <td>1.046099e+01</td>\n",
       "      <td>1.012824e+02</td>\n",
       "      <td>1.004084e-01</td>\n",
       "      <td>1.478970e-01</td>\n",
       "      <td>1.044516e+00</td>\n",
       "    </tr>\n",
       "    <tr>\n",
       "      <th>min</th>\n",
       "      <td>1.000000e+01</td>\n",
       "      <td>6.100000e+01</td>\n",
       "      <td>3.000000e+00</td>\n",
       "      <td>3.726331e+01</td>\n",
       "      <td>-1.224737e+02</td>\n",
       "      <td>1.878000e+03</td>\n",
       "      <td>3.000000e+00</td>\n",
       "      <td>3.726331e+01</td>\n",
       "      <td>-1.224737e+02</td>\n",
       "      <td>0.000000e+00</td>\n",
       "    </tr>\n",
       "    <tr>\n",
       "      <th>25%</th>\n",
       "      <td>1.298000e+03</td>\n",
       "      <td>3.520000e+02</td>\n",
       "      <td>3.000000e+01</td>\n",
       "      <td>3.777143e+01</td>\n",
       "      <td>-1.224107e+02</td>\n",
       "      <td>1.978000e+03</td>\n",
       "      <td>3.000000e+01</td>\n",
       "      <td>3.777106e+01</td>\n",
       "      <td>-1.224117e+02</td>\n",
       "      <td>8.841917e-01</td>\n",
       "    </tr>\n",
       "    <tr>\n",
       "      <th>50%</th>\n",
       "      <td>2.508000e+03</td>\n",
       "      <td>5.580000e+02</td>\n",
       "      <td>8.500000e+01</td>\n",
       "      <td>3.778127e+01</td>\n",
       "      <td>-1.223974e+02</td>\n",
       "      <td>1.985000e+03</td>\n",
       "      <td>8.600000e+01</td>\n",
       "      <td>3.778127e+01</td>\n",
       "      <td>-1.223983e+02</td>\n",
       "      <td>1.392227e+00</td>\n",
       "    </tr>\n",
       "    <tr>\n",
       "      <th>75%</th>\n",
       "      <td>3.664000e+03</td>\n",
       "      <td>8.740000e+02</td>\n",
       "      <td>1.820000e+02</td>\n",
       "      <td>3.779591e+01</td>\n",
       "      <td>-1.222948e+02</td>\n",
       "      <td>1.990000e+03</td>\n",
       "      <td>1.830000e+02</td>\n",
       "      <td>3.779539e+01</td>\n",
       "      <td>-1.222935e+02</td>\n",
       "      <td>2.108326e+00</td>\n",
       "    </tr>\n",
       "    <tr>\n",
       "      <th>max</th>\n",
       "      <td>7.082000e+03</td>\n",
       "      <td>8.636900e+04</td>\n",
       "      <td>4.070000e+02</td>\n",
       "      <td>4.551000e+01</td>\n",
       "      <td>-7.357000e+01</td>\n",
       "      <td>2.001000e+03</td>\n",
       "      <td>4.070000e+02</td>\n",
       "      <td>4.551000e+01</td>\n",
       "      <td>-7.357000e+01</td>\n",
       "      <td>6.942562e+01</td>\n",
       "    </tr>\n",
       "  </tbody>\n",
       "</table>\n",
       "</div>"
      ],
      "text/plain": [
       "            bike_id  duration_sec  end_station_id  end_station_latitude  \\\n",
       "count  2.883851e+06  2.883851e+06    2.871606e+06          2.883851e+06   \n",
       "mean   2.630961e+03  8.849844e+02    1.168995e+02          3.776902e+01   \n",
       "std    1.654795e+03  2.531323e+03    1.011717e+02          1.003054e-01   \n",
       "min    1.000000e+01  6.100000e+01    3.000000e+00          3.726331e+01   \n",
       "25%    1.298000e+03  3.520000e+02    3.000000e+01          3.777143e+01   \n",
       "50%    2.508000e+03  5.580000e+02    8.500000e+01          3.778127e+01   \n",
       "75%    3.664000e+03  8.740000e+02    1.820000e+02          3.779591e+01   \n",
       "max    7.082000e+03  8.636900e+04    4.070000e+02          4.551000e+01   \n",
       "\n",
       "       end_station_longitude  member_birth_year  start_station_id  \\\n",
       "count           2.883851e+06       2.681895e+06      2.871606e+06   \n",
       "mean           -1.223527e+02       1.982964e+03      1.186641e+02   \n",
       "std             1.475031e-01       1.046099e+01      1.012824e+02   \n",
       "min            -1.224737e+02       1.878000e+03      3.000000e+00   \n",
       "25%            -1.224107e+02       1.978000e+03      3.000000e+01   \n",
       "50%            -1.223974e+02       1.985000e+03      8.600000e+01   \n",
       "75%            -1.222948e+02       1.990000e+03      1.830000e+02   \n",
       "max            -7.357000e+01       2.001000e+03      4.070000e+02   \n",
       "\n",
       "       start_station_latitude  start_station_longitude   distance_km  \n",
       "count            2.883851e+06             2.883851e+06  2.883851e+06  \n",
       "mean             3.776888e+01            -1.223532e+02  1.616095e+00  \n",
       "std              1.004084e-01             1.478970e-01  1.044516e+00  \n",
       "min              3.726331e+01            -1.224737e+02  0.000000e+00  \n",
       "25%              3.777106e+01            -1.224117e+02  8.841917e-01  \n",
       "50%              3.778127e+01            -1.223983e+02  1.392227e+00  \n",
       "75%              3.779539e+01            -1.222935e+02  2.108326e+00  \n",
       "max              4.551000e+01            -7.357000e+01  6.942562e+01  "
      ]
     },
     "execution_count": 11,
     "metadata": {},
     "output_type": "execute_result"
    }
   ],
   "source": [
    "df_copy.describe()"
   ]
  },
  {
   "cell_type": "code",
   "execution_count": 12,
   "metadata": {},
   "outputs": [
    {
     "data": {
      "image/png": "[encoded data removed]",
      "text/plain": [
       "<Figure size 432x288 with 1 Axes>"
      ]
     },
     "metadata": {},
     "output_type": "display_data"
    }
   ],
   "source": [
    "# Plot the distribution of trip distance\n",
    "bin_edges = np.arange(0, df_copy['distance_km'].max() + 0.1 , 0.1)\n",
    "plt.hist(data = df_copy , x = 'distance_km' , bins = bin_edges)\n",
    "plt.xlabel('Distance_KM')\n",
    "plt.title('Distribution of Trip Distance(s)')\n",
    "plt.xlim(0,8)\n",
    "plt.show()"
   ]
  },
  {
   "cell_type": "markdown",
   "metadata": {},
   "source": [
    "### Discuss the distribution(s) of your variable(s) of interest. Were there any unusual points? Did you need to perform any transformations?\n",
    "\n",
    "> It is right screwed with a long tail on the right. I am going to add log transformation to x axis. Also, there are lots of trips with zero distance, those can be the trips that users returned bikes to the same place, this may look odd on the graph but it makes logical sense.\n"
   ]
  },
  {
   "cell_type": "code",
   "execution_count": 17,
   "metadata": {
    "scrolled": false
   },
   "outputs": [
    {
     "data": {
      "image/png": "[encoded data removed]",
      "text/plain": [
       "<Figure size 432x288 with 1 Axes>"
      ]
     },
     "metadata": {},
     "output_type": "display_data"
    }
   ],
   "source": [
    "bins = np.arange(0,df_copy['distance_km'].max()+0.1,0.1)\n",
    "plt.hist(data = df_copy , x = 'distance_km' , bins = bins);\n",
    "plt.xscale('log')"
   ]
  },
  {
   "cell_type": "markdown",
   "metadata": {},
   "source": [
    "### Of the features you investigated, were there any unusual distributions? Did you perform any operations on the data to tidy, adjust, or change the form of the data? If so, why did you do this?\n",
    "\n",
    "> In the step above, I have performed a trail on log transformation. As we can see, a lot of distance entry has zero KM, I believe this is due to the return to the same location, therefore, I will do no adjustment to the data."
   ]
  },
  {
   "cell_type": "code",
   "execution_count": 19,
   "metadata": {},
   "outputs": [
    {
     "name": "stderr",
     "output_type": "stream",
     "text": [
      "/anaconda3/lib/python3.6/site-packages/ipykernel_launcher.py:1: RuntimeWarning: divide by zero encountered in log\n",
      "  \"\"\"Entry point for launching an IPython kernel.\n"
     ]
    },
    {
     "data": {
      "text/plain": [
       "count    14.874637\n",
       "mean      0.480013\n",
       "std       0.043554\n",
       "min           -inf\n",
       "25%      -0.123081\n",
       "50%       0.330904\n",
       "75%       0.745894\n",
       "max       4.240256\n",
       "Name: distance_km, dtype: float64"
      ]
     },
     "execution_count": 19,
     "metadata": {},
     "output_type": "execute_result"
    }
   ],
   "source": [
    "np.log(df_copy['distance_km'].describe())"
   ]
  },
  {
   "cell_type": "code",
   "execution_count": 20,
   "metadata": {
    "scrolled": true
   },
   "outputs": [
    {
     "data": {
      "image/png": "[encoded data removed]",
      "text/plain": [
       "<Figure size 432x288 with 1 Axes>"
      ]
     },
     "metadata": {},
     "output_type": "display_data"
    }
   ],
   "source": [
    "df_copy['distance_m'] = df_copy['distance_km'] * 1000\n",
    "bin_edges = 10**np.arange(2 , 4+0.1 , 0.05)\n",
    "ticks =  [400,800,1600,3000,5500,10000]\n",
    "labels = ['{}'.format(v) for v in ticks]\n",
    "plt.hist(data = df_copy , x = 'distance_m' , bins = bin_edges);\n",
    "#plt.xticks(ticks,labels);\n",
    "plt.xlabel('Distance_M');\n",
    "plt.xscale('log');\n",
    "plt.title('Distribution of Trip Distance(s)')\n",
    "plt.ylabel('Frequency')\n",
    "plt.xticks(ticks,labels)\n",
    "plt.show()"
   ]
  },
  {
   "cell_type": "markdown",
   "metadata": {},
   "source": [
    "We can see by the plot above, most of bike users ride bikes for a short distance around 1.6 KM. "
   ]
  },
  {
   "cell_type": "markdown",
   "metadata": {},
   "source": [
    "## Bivariate Exploration\n",
    "\n",
    "> In this section, investigate relationships between pairs of variables in your\n",
    "data. Make sure the variables that you cover here have been introduced in some\n",
    "fashion in the previous section (univariate exploration)."
   ]
  },
  {
   "cell_type": "markdown",
   "metadata": {},
   "source": [
    "Q2. Does trip distance depend on user group (subscriber vs. customer)? "
   ]
  },
  {
   "cell_type": "code",
   "execution_count": 21,
   "metadata": {
    "scrolled": false
   },
   "outputs": [
    {
     "data": {
      "image/png": "[encoded data removed]",
      "text/plain": [
       "<Figure size 864x432 with 1 Axes>"
      ]
     },
     "metadata": {},
     "output_type": "display_data"
    }
   ],
   "source": [
    "ax = df_copy.groupby('user_type')['distance_km'].mean().plot(kind='barh', color=['red', 'green'], figsize=(12,6))\n",
    "ax.set_title('Average trip distance per user type', fontsize=20, y=1.015)\n",
    "ax.set_ylabel('user type')\n",
    "ax.set_xlabel('distance [km]')\n",
    "plt.show()"
   ]
  },
  {
   "cell_type": "markdown",
   "metadata": {},
   "source": [
    "#### We can see that on average customers travel 1.7 km, and subscribers travel 1.6 km on average."
   ]
  },
  {
   "cell_type": "code",
   "execution_count": 22,
   "metadata": {},
   "outputs": [],
   "source": [
    "df_copy['member_age'] = 2019-df_copy['member_birth_year']"
   ]
  },
  {
   "cell_type": "code",
   "execution_count": 23,
   "metadata": {},
   "outputs": [],
   "source": [
    "#Generate a new field for member age group from member_age_bin\n",
    "df_copy['member_age_bins'] = df_copy['member_age'].apply(lambda x: '10 - 20' if 10<x<=20\n",
    "                                                  else '20 - 30' if 20<x<=30\n",
    "                                                  else '30 - 40' if 30<x<=40\n",
    "                                                  else '40 - 50' if 40<x<=50\n",
    "                                                  else '50 - 60' if 50<x<=60\n",
    "                                                  else 'other')"
   ]
  },
  {
   "cell_type": "code",
   "execution_count": 24,
   "metadata": {},
   "outputs": [],
   "source": [
    "trip_age_df = df_copy.groupby('member_age_bins').agg({'bike_id':'count'})\n",
    "trip_age_df['perc'] = (trip_age_df['bike_id']/trip_age_df['bike_id'].sum())*100\n"
   ]
  },
  {
   "cell_type": "code",
   "execution_count": 25,
   "metadata": {},
   "outputs": [
    {
     "data": {
      "image/png": "[encoded data removed]",
      "text/plain": [
       "<Figure size 864x576 with 1 Axes>"
      ]
     },
     "metadata": {},
     "output_type": "display_data"
    }
   ],
   "source": [
    "trip_age_df['perc'].plot(kind='bar',color='silver', figsize=(12,8))\n",
    "plt.title('Percentage of all bike rides per age group', fontsize=22, y=1.015)\n",
    "plt.xlabel('member age group', labelpad=16)\n",
    "plt.ylabel('pecentage(%) [rides]', labelpad=16)\n",
    "plt.xticks(rotation=360)\n",
    "plt.show()"
   ]
  },
  {
   "cell_type": "markdown",
   "metadata": {},
   "source": [
    "## Talk about some of the relationships you observed in this part of the investigation. How did the feature(s) of interest vary with other features in the dataset?\n",
    "\n",
    "> Subscriber's average trip distance is about 1.6 km. \n",
    "\n",
    "> Customer's average trip duration is about 1.7 km.\n",
    "\n",
    "### Did you observe any interesting relationships between the other features (not the main feature(s) of interest)?\n",
    "\n",
    "> People in age from 20-40 years old consume more than 65% of bike rides. "
   ]
  },
  {
   "cell_type": "markdown",
   "metadata": {},
   "source": [
    "## Multivariate Exploration\n",
    "\n",
    "> Create plots of three or more variables to investigate your data even\n",
    "further. Make sure that your investigations are justified, and follow from\n",
    "your work in the previous sections.\n",
    "\n",
    "Q3. How does seasonality (weather condition) affect the trip distance of each user group? (Multivariate)"
   ]
  },
  {
   "cell_type": "code",
   "execution_count": 26,
   "metadata": {},
   "outputs": [],
   "source": [
    "df_copy['month'] = pd.DatetimeIndex(df_copy['start_time']).month"
   ]
  },
  {
   "cell_type": "code",
   "execution_count": 39,
   "metadata": {},
   "outputs": [],
   "source": [
    "#Generate a new field for season group from month\n",
    "df_copy['season'] = df_copy['month'].apply(lambda x: 'Spring' if x in [3 , 4 , 5]\n",
    "                                                  else 'Summer' if x in [6 , 7 , 8]\n",
    "                                                  else 'Fall' if x in [9 , 10 , 11]\n",
    "                                                  else 'Winter' if x in [12 , 1 , 2]\n",
    "                                                  else 'unknown')"
   ]
  },
  {
   "cell_type": "code",
   "execution_count": 40,
   "metadata": {
    "scrolled": true
   },
   "outputs": [
    {
     "data": {
      "text/html": [
       "<div>\n",
       "<style scoped>\n",
       "    .dataframe tbody tr th:only-of-type {\n",
       "        vertical-align: middle;\n",
       "    }\n",
       "\n",
       "    .dataframe tbody tr th {\n",
       "        vertical-align: top;\n",
       "    }\n",
       "\n",
       "    .dataframe thead th {\n",
       "        text-align: right;\n",
       "    }\n",
       "</style>\n",
       "<table border=\"1\" class=\"dataframe\">\n",
       "  <thead>\n",
       "    <tr style=\"text-align: right;\">\n",
       "      <th></th>\n",
       "      <th>bike_id</th>\n",
       "      <th>bike_share_for_all_trip</th>\n",
       "      <th>duration_sec</th>\n",
       "      <th>end_station_id</th>\n",
       "      <th>end_station_latitude</th>\n",
       "      <th>end_station_longitude</th>\n",
       "      <th>end_station_name</th>\n",
       "      <th>end_time</th>\n",
       "      <th>member_birth_year</th>\n",
       "      <th>member_gender</th>\n",
       "      <th>...</th>\n",
       "      <th>start_station_name</th>\n",
       "      <th>start_time</th>\n",
       "      <th>user_type</th>\n",
       "      <th>distance_km</th>\n",
       "      <th>distance_m</th>\n",
       "      <th>member_age</th>\n",
       "      <th>member_age_bins</th>\n",
       "      <th>month</th>\n",
       "      <th>season</th>\n",
       "      <th>year</th>\n",
       "    </tr>\n",
       "  </thead>\n",
       "  <tbody>\n",
       "    <tr>\n",
       "      <th>0</th>\n",
       "      <td>1035</td>\n",
       "      <td>No</td>\n",
       "      <td>598</td>\n",
       "      <td>114.0</td>\n",
       "      <td>37.764478</td>\n",
       "      <td>-122.402570</td>\n",
       "      <td>Rhode Island St at 17th St</td>\n",
       "      <td>2018-03-01 00:09:45.1870</td>\n",
       "      <td>1988.0</td>\n",
       "      <td>Male</td>\n",
       "      <td>...</td>\n",
       "      <td>Yerba Buena Center for the Arts (Howard St at ...</td>\n",
       "      <td>2018-02-28 23:59:47.0970</td>\n",
       "      <td>Subscriber</td>\n",
       "      <td>2.271143</td>\n",
       "      <td>2271.143372</td>\n",
       "      <td>31.0</td>\n",
       "      <td>30 - 40</td>\n",
       "      <td>2</td>\n",
       "      <td>Winter</td>\n",
       "      <td>2018</td>\n",
       "    </tr>\n",
       "    <tr>\n",
       "      <th>1</th>\n",
       "      <td>1673</td>\n",
       "      <td>No</td>\n",
       "      <td>943</td>\n",
       "      <td>324.0</td>\n",
       "      <td>37.788300</td>\n",
       "      <td>-122.408531</td>\n",
       "      <td>Union Square (Powell St at Post St)</td>\n",
       "      <td>2018-02-28 23:36:59.9740</td>\n",
       "      <td>1987.0</td>\n",
       "      <td>Male</td>\n",
       "      <td>...</td>\n",
       "      <td>The Embarcadero at Sansome St</td>\n",
       "      <td>2018-02-28 23:21:16.4950</td>\n",
       "      <td>Customer</td>\n",
       "      <td>1.888406</td>\n",
       "      <td>1888.405653</td>\n",
       "      <td>32.0</td>\n",
       "      <td>30 - 40</td>\n",
       "      <td>2</td>\n",
       "      <td>Winter</td>\n",
       "      <td>2018</td>\n",
       "    </tr>\n",
       "    <tr>\n",
       "      <th>2</th>\n",
       "      <td>3498</td>\n",
       "      <td>No</td>\n",
       "      <td>18587</td>\n",
       "      <td>15.0</td>\n",
       "      <td>37.795392</td>\n",
       "      <td>-122.394203</td>\n",
       "      <td>San Francisco Ferry Building (Harry Bridges Pl...</td>\n",
       "      <td>2018-02-28 23:30:42.9250</td>\n",
       "      <td>1986.0</td>\n",
       "      <td>Female</td>\n",
       "      <td>...</td>\n",
       "      <td>4th St at Mission Bay Blvd S</td>\n",
       "      <td>2018-02-28 18:20:55.1900</td>\n",
       "      <td>Customer</td>\n",
       "      <td>2.788929</td>\n",
       "      <td>2788.928640</td>\n",
       "      <td>33.0</td>\n",
       "      <td>30 - 40</td>\n",
       "      <td>2</td>\n",
       "      <td>Winter</td>\n",
       "      <td>2018</td>\n",
       "    </tr>\n",
       "    <tr>\n",
       "      <th>3</th>\n",
       "      <td>3129</td>\n",
       "      <td>No</td>\n",
       "      <td>18558</td>\n",
       "      <td>15.0</td>\n",
       "      <td>37.795392</td>\n",
       "      <td>-122.394203</td>\n",
       "      <td>San Francisco Ferry Building (Harry Bridges Pl...</td>\n",
       "      <td>2018-02-28 23:30:12.4500</td>\n",
       "      <td>1981.0</td>\n",
       "      <td>Male</td>\n",
       "      <td>...</td>\n",
       "      <td>4th St at Mission Bay Blvd S</td>\n",
       "      <td>2018-02-28 18:20:53.6210</td>\n",
       "      <td>Customer</td>\n",
       "      <td>2.788929</td>\n",
       "      <td>2788.928640</td>\n",
       "      <td>38.0</td>\n",
       "      <td>30 - 40</td>\n",
       "      <td>2</td>\n",
       "      <td>Winter</td>\n",
       "      <td>2018</td>\n",
       "    </tr>\n",
       "    <tr>\n",
       "      <th>4</th>\n",
       "      <td>1839</td>\n",
       "      <td>Yes</td>\n",
       "      <td>885</td>\n",
       "      <td>297.0</td>\n",
       "      <td>37.322980</td>\n",
       "      <td>-121.887931</td>\n",
       "      <td>Locust St at Grant St</td>\n",
       "      <td>2018-02-28 23:29:58.6080</td>\n",
       "      <td>1976.0</td>\n",
       "      <td>Female</td>\n",
       "      <td>...</td>\n",
       "      <td>San Pedro Square</td>\n",
       "      <td>2018-02-28 23:15:12.8580</td>\n",
       "      <td>Subscriber</td>\n",
       "      <td>1.629574</td>\n",
       "      <td>1629.574026</td>\n",
       "      <td>43.0</td>\n",
       "      <td>40 - 50</td>\n",
       "      <td>2</td>\n",
       "      <td>Winter</td>\n",
       "      <td>2018</td>\n",
       "    </tr>\n",
       "  </tbody>\n",
       "</table>\n",
       "<p>5 rows × 23 columns</p>\n",
       "</div>"
      ],
      "text/plain": [
       "   bike_id bike_share_for_all_trip  duration_sec  end_station_id  \\\n",
       "0     1035                      No           598           114.0   \n",
       "1     1673                      No           943           324.0   \n",
       "2     3498                      No         18587            15.0   \n",
       "3     3129                      No         18558            15.0   \n",
       "4     1839                     Yes           885           297.0   \n",
       "\n",
       "   end_station_latitude  end_station_longitude  \\\n",
       "0             37.764478            -122.402570   \n",
       "1             37.788300            -122.408531   \n",
       "2             37.795392            -122.394203   \n",
       "3             37.795392            -122.394203   \n",
       "4             37.322980            -121.887931   \n",
       "\n",
       "                                    end_station_name  \\\n",
       "0                         Rhode Island St at 17th St   \n",
       "1                Union Square (Powell St at Post St)   \n",
       "2  San Francisco Ferry Building (Harry Bridges Pl...   \n",
       "3  San Francisco Ferry Building (Harry Bridges Pl...   \n",
       "4                              Locust St at Grant St   \n",
       "\n",
       "                   end_time  member_birth_year member_gender  ...   \\\n",
       "0  2018-03-01 00:09:45.1870             1988.0          Male  ...    \n",
       "1  2018-02-28 23:36:59.9740             1987.0          Male  ...    \n",
       "2  2018-02-28 23:30:42.9250             1986.0        Female  ...    \n",
       "3  2018-02-28 23:30:12.4500             1981.0          Male  ...    \n",
       "4  2018-02-28 23:29:58.6080             1976.0        Female  ...    \n",
       "\n",
       "                                  start_station_name  \\\n",
       "0  Yerba Buena Center for the Arts (Howard St at ...   \n",
       "1                      The Embarcadero at Sansome St   \n",
       "2                       4th St at Mission Bay Blvd S   \n",
       "3                       4th St at Mission Bay Blvd S   \n",
       "4                                   San Pedro Square   \n",
       "\n",
       "                 start_time   user_type distance_km   distance_m member_age  \\\n",
       "0  2018-02-28 23:59:47.0970  Subscriber    2.271143  2271.143372       31.0   \n",
       "1  2018-02-28 23:21:16.4950    Customer    1.888406  1888.405653       32.0   \n",
       "2  2018-02-28 18:20:55.1900    Customer    2.788929  2788.928640       33.0   \n",
       "3  2018-02-28 18:20:53.6210    Customer    2.788929  2788.928640       38.0   \n",
       "4  2018-02-28 23:15:12.8580  Subscriber    1.629574  1629.574026       43.0   \n",
       "\n",
       "   member_age_bins  month  season  year  \n",
       "0          30 - 40      2  Winter  2018  \n",
       "1          30 - 40      2  Winter  2018  \n",
       "2          30 - 40      2  Winter  2018  \n",
       "3          30 - 40      2  Winter  2018  \n",
       "4          40 - 50      2  Winter  2018  \n",
       "\n",
       "[5 rows x 23 columns]"
      ]
     },
     "execution_count": 40,
     "metadata": {},
     "output_type": "execute_result"
    }
   ],
   "source": [
    "df_copy.head()"
   ]
  },
  {
   "cell_type": "code",
   "execution_count": 41,
   "metadata": {},
   "outputs": [],
   "source": [
    "df_copy['season_num'] = df_copy['month'].apply(lambda x: '1' if x in [3 , 4 , 5]\n",
    "                                                  else '2' if x in [6 , 7 , 8]\n",
    "                                                  else '3' if x in [9 , 10 , 11]\n",
    "                                                  else '4' if x in [12 , 1 , 2]\n",
    "                                                  else '99')"
   ]
  },
  {
   "cell_type": "code",
   "execution_count": 42,
   "metadata": {},
   "outputs": [],
   "source": [
    "df_copy['year'] = pd.DatetimeIndex(df_copy['start_time']).year"
   ]
  },
  {
   "cell_type": "code",
   "execution_count": 43,
   "metadata": {},
   "outputs": [],
   "source": [
    "df_copy_2018 = df_copy[df_copy['year']==2018]"
   ]
  },
  {
   "cell_type": "code",
   "execution_count": 44,
   "metadata": {},
   "outputs": [
    {
     "data": {
      "image/png": "[encoded data removed]",
      "text/plain": [
       "<Figure size 864x576 with 1 Axes>"
      ]
     },
     "metadata": {},
     "output_type": "display_data"
    }
   ],
   "source": [
    "test_df = df_copy_2018.groupby('season').agg({'distance_km':'sum'})\n",
    "#test_df['perc'] = (test_df['bike_id']/test_df['bike_id'].sum())*100\n",
    "#trip_age_df['perc'].plot(kind='bar',color='silver', figsize=(12,8))\n",
    "test_df.plot(kind='bar',color='silver', figsize=(12,8))\n",
    "plt.title('Total distance traveled by bike per season', fontsize=22, y=1.015)\n",
    "plt.xlabel('Season', labelpad=16)\n",
    "plt.ylabel('Total distance traveled in KM', labelpad=16)\n",
    "plt.xticks(rotation=360)\n",
    "plt.show()"
   ]
  },
  {
   "cell_type": "code",
   "execution_count": 46,
   "metadata": {},
   "outputs": [
    {
     "data": {
      "image/png": "[encoded data removed]",
      "text/plain": [
       "<Figure size 1008x576 with 1 Axes>"
      ]
     },
     "metadata": {},
     "output_type": "display_data"
    }
   ],
   "source": [
    "plt.figure(figsize=(14,8))\n",
    "my_palette = {'20 - 30': 'deepskyblue', '30 - 40': 'navy', '40 - 50': 'lightgrey'}\n",
    "ax = sb.barplot(x='season', y='distance_km', estimator=sum, hue='member_age_bins', palette=my_palette, data=df_copy_2018[df_copy_2018['member_age_bins'].isin(['20 - 30', '30 - 40', '40 - 50'])].sort_values(by=['season_num', 'member_age_bins']))\n",
    "plt.title('The seasonality of bike rides for 20 to 50 years olds in year of 2018', fontsize=22, y=1.015)\n",
    "plt.xlabel('Season', labelpad=16)\n",
    "plt.ylabel('Total mileage in KM', labelpad=16)\n",
    "leg = ax.legend()\n",
    "leg.set_title('Member age group',prop={'size':16})\n",
    "ax = plt.gca()\n",
    "#ax.yaxis.set_major_formatter(tick.FuncFormatter(transform_axis_fmt))"
   ]
  },
  {
   "cell_type": "markdown",
   "metadata": {},
   "source": [
    "### Talk about some of the relationships you observed in this part of the investigation. Were there features that strengthened each other in terms of looking at your feature(s) of interest?\n",
    "\n",
    "> Poeple in age 30-40 consume more than twice of the bike service mileage than people in age group 40-50 in all four seasons.\n",
    "\n",
    "> Summer is the most popular season of the year across all age groups\n",
    "\n",
    "### Were there any interesting or surprising interactions between features?\n",
    "\n",
    "> It's interesting to see people prefer fall weather than spring (more total mileage in fall than spring), I think it's due to the fact that there are more raining days in spring in general than fall [1]. \n",
    "\n",
    "\n",
    "[1] \"First month of spring is rainy with average temperature about 13 °C (55 °F).\" reference:https://seasonsyear.com/USA/San-Francisco"
   ]
  },
  {
   "cell_type": "markdown",
   "metadata": {},
   "source": [
    "> At the end of your report, make sure that you export the notebook as an\n",
    "html file from the `File > Download as... > HTML` menu. Make sure you keep\n",
    "track of where the exported file goes, so you can put it in the same folder\n",
    "as this notebook for project submission. Also, make sure you remove all of\n",
    "the quote-formatted guide notes like this one before you finish your report!"
   ]
  },
  {
   "cell_type": "code",
   "execution_count": 47,
   "metadata": {},
   "outputs": [],
   "source": [
    "df_copy.to_csv('final_df.csv')"
   ]
  },
  {
   "cell_type": "markdown",
   "metadata": {},
   "source": [
    "### Reference"
   ]
  },
  {
   "cell_type": "markdown",
   "metadata": {},
   "source": [
    "https://github.com/CICIFLY/Data-Analytics-Projects/blob/master/Communicate%20Data%20Findings%20with%20Ford%20Bike%20Sharing%20Data/Data-Exploration-with-Bike-Data.ipynb\n",
    "\n",
    "https://github.com/juliaYi/Ford-GoBike-Data-Visualization/blob/master/ford_bike_data_analysis.ipynb\n",
    "\n",
    "https://github.com/seby-sbirna/Data-Analyst-Nanodegree-Project-Portfolio/blob/master/Project%205%20-%20Communicate%20Data%20Findings/Project%205%20-%20Sebastian%20Sbirna.ipynb\n",
    "\n",
    "https://stackoverflow.com/questions/29545704/fast-haversine-approximation-python-pandas?noredirect=1&lq=1\n",
    "    \n",
    "https://stackoverflow.com/questions/6282058/writing-numerical-values-on-the-plot-with-matplotlib    "
   ]
  },
  {
   "cell_type": "code",
   "execution_count": null,
   "metadata": {},
   "outputs": [],
   "source": []
  }
 ],
 "metadata": {
  "kernelspec": {
   "display_name": "Python 3",
   "language": "python",
   "name": "python3"
  },
  "language_info": {
   "codemirror_mode": {
    "name": "ipython",
    "version": 3
   },
   "file_extension": ".py",
   "mimetype": "text/x-python",
   "name": "python",
   "nbconvert_exporter": "python",
   "pygments_lexer": "ipython3",
   "version": "3.6.8"
  }
 },
 "nbformat": 4,
 "nbformat_minor": 2
}
